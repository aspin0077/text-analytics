{
 "cells": [
  {
   "cell_type": "code",
   "execution_count": 1,
   "metadata": {},
   "outputs": [],
   "source": [
    "#loading packages\n",
    "import nltk\n",
    "import pandas as pd\n",
    "import numpy as np\n",
    "import matplotlib.pyplot as plt\n",
    "#nltk.download()"
   ]
  },
  {
   "cell_type": "code",
   "execution_count": 72,
   "metadata": {
    "scrolled": true
   },
   "outputs": [
    {
     "name": "stdout",
     "output_type": "stream",
     "text": [
      "   id sentiment                                               text\n",
      "0   1   Neutral  RT @NancyLeeGrahn: How did everyone feel about...\n",
      "1   2  Positive  RT @ScottWalker: Didn't catch the full #GOPdeb...\n",
      "2   3   Neutral  RT @TJMShow: No mention of Tamir Rice and the ...\n",
      "3   4  Positive  RT @RobGeorge: That Carly Fiorina is trending ...\n",
      "4   5  Positive  RT @DanScavino: #GOPDebate w/ @realDonaldTrump...\n"
     ]
    }
   ],
   "source": [
    "#loading text data\n",
    "text=pd.read_csv(\"C:/Users/Admin/Desktop/text.csv\")\n",
    "print(text.head())"
   ]
  },
  {
   "cell_type": "code",
   "execution_count": 3,
   "metadata": {},
   "outputs": [
    {
     "data": {
      "text/html": [
       "<div>\n",
       "<style scoped>\n",
       "    .dataframe tbody tr th:only-of-type {\n",
       "        vertical-align: middle;\n",
       "    }\n",
       "\n",
       "    .dataframe tbody tr th {\n",
       "        vertical-align: top;\n",
       "    }\n",
       "\n",
       "    .dataframe thead th {\n",
       "        text-align: right;\n",
       "    }\n",
       "</style>\n",
       "<table border=\"1\" class=\"dataframe\">\n",
       "  <thead>\n",
       "    <tr style=\"text-align: right;\">\n",
       "      <th></th>\n",
       "      <th>text</th>\n",
       "      <th>word_count</th>\n",
       "    </tr>\n",
       "  </thead>\n",
       "  <tbody>\n",
       "    <tr>\n",
       "      <th>0</th>\n",
       "      <td>RT @NancyLeeGrahn: How did everyone feel about...</td>\n",
       "      <td>15</td>\n",
       "    </tr>\n",
       "    <tr>\n",
       "      <th>1</th>\n",
       "      <td>RT @ScottWalker: Didn't catch the full #GOPdeb...</td>\n",
       "      <td>21</td>\n",
       "    </tr>\n",
       "    <tr>\n",
       "      <th>2</th>\n",
       "      <td>RT @TJMShow: No mention of Tamir Rice and the ...</td>\n",
       "      <td>15</td>\n",
       "    </tr>\n",
       "    <tr>\n",
       "      <th>3</th>\n",
       "      <td>RT @RobGeorge: That Carly Fiorina is trending ...</td>\n",
       "      <td>25</td>\n",
       "    </tr>\n",
       "    <tr>\n",
       "      <th>4</th>\n",
       "      <td>RT @DanScavino: #GOPDebate w/ @realDonaldTrump...</td>\n",
       "      <td>17</td>\n",
       "    </tr>\n",
       "  </tbody>\n",
       "</table>\n",
       "</div>"
      ],
      "text/plain": [
       "                                                text  word_count\n",
       "0  RT @NancyLeeGrahn: How did everyone feel about...          15\n",
       "1  RT @ScottWalker: Didn't catch the full #GOPdeb...          21\n",
       "2  RT @TJMShow: No mention of Tamir Rice and the ...          15\n",
       "3  RT @RobGeorge: That Carly Fiorina is trending ...          25\n",
       "4  RT @DanScavino: #GOPDebate w/ @realDonaldTrump...          17"
      ]
     },
     "execution_count": 3,
     "metadata": {},
     "output_type": "execute_result"
    }
   ],
   "source": [
    "#count Words\n",
    "text['word_count'] = text['text'].apply(lambda x: len(str(x).split(\" \")))\n",
    "text[['text','word_count']].head()"
   ]
  },
  {
   "cell_type": "code",
   "execution_count": 4,
   "metadata": {},
   "outputs": [
    {
     "data": {
      "text/html": [
       "<div>\n",
       "<style scoped>\n",
       "    .dataframe tbody tr th:only-of-type {\n",
       "        vertical-align: middle;\n",
       "    }\n",
       "\n",
       "    .dataframe tbody tr th {\n",
       "        vertical-align: top;\n",
       "    }\n",
       "\n",
       "    .dataframe thead th {\n",
       "        text-align: right;\n",
       "    }\n",
       "</style>\n",
       "<table border=\"1\" class=\"dataframe\">\n",
       "  <thead>\n",
       "    <tr style=\"text-align: right;\">\n",
       "      <th></th>\n",
       "      <th>text</th>\n",
       "      <th>char_count</th>\n",
       "    </tr>\n",
       "  </thead>\n",
       "  <tbody>\n",
       "    <tr>\n",
       "      <th>0</th>\n",
       "      <td>RT @NancyLeeGrahn: How did everyone feel about...</td>\n",
       "      <td>106</td>\n",
       "    </tr>\n",
       "    <tr>\n",
       "      <th>1</th>\n",
       "      <td>RT @ScottWalker: Didn't catch the full #GOPdeb...</td>\n",
       "      <td>140</td>\n",
       "    </tr>\n",
       "    <tr>\n",
       "      <th>2</th>\n",
       "      <td>RT @TJMShow: No mention of Tamir Rice and the ...</td>\n",
       "      <td>84</td>\n",
       "    </tr>\n",
       "    <tr>\n",
       "      <th>3</th>\n",
       "      <td>RT @RobGeorge: That Carly Fiorina is trending ...</td>\n",
       "      <td>140</td>\n",
       "    </tr>\n",
       "    <tr>\n",
       "      <th>4</th>\n",
       "      <td>RT @DanScavino: #GOPDebate w/ @realDonaldTrump...</td>\n",
       "      <td>140</td>\n",
       "    </tr>\n",
       "  </tbody>\n",
       "</table>\n",
       "</div>"
      ],
      "text/plain": [
       "                                                text  char_count\n",
       "0  RT @NancyLeeGrahn: How did everyone feel about...         106\n",
       "1  RT @ScottWalker: Didn't catch the full #GOPdeb...         140\n",
       "2  RT @TJMShow: No mention of Tamir Rice and the ...          84\n",
       "3  RT @RobGeorge: That Carly Fiorina is trending ...         140\n",
       "4  RT @DanScavino: #GOPDebate w/ @realDonaldTrump...         140"
      ]
     },
     "execution_count": 4,
     "metadata": {},
     "output_type": "execute_result"
    }
   ],
   "source": [
    "#count characters\n",
    "text['char_count'] = text['text'].str.len()\n",
    "text[['text','char_count']].head()"
   ]
  },
  {
   "cell_type": "code",
   "execution_count": 5,
   "metadata": {},
   "outputs": [
    {
     "data": {
      "text/html": [
       "<div>\n",
       "<style scoped>\n",
       "    .dataframe tbody tr th:only-of-type {\n",
       "        vertical-align: middle;\n",
       "    }\n",
       "\n",
       "    .dataframe tbody tr th {\n",
       "        vertical-align: top;\n",
       "    }\n",
       "\n",
       "    .dataframe thead th {\n",
       "        text-align: right;\n",
       "    }\n",
       "</style>\n",
       "<table border=\"1\" class=\"dataframe\">\n",
       "  <thead>\n",
       "    <tr style=\"text-align: right;\">\n",
       "      <th></th>\n",
       "      <th>text</th>\n",
       "      <th>avg_word</th>\n",
       "    </tr>\n",
       "  </thead>\n",
       "  <tbody>\n",
       "    <tr>\n",
       "      <th>0</th>\n",
       "      <td>RT @NancyLeeGrahn: How did everyone feel about...</td>\n",
       "      <td>6.133333</td>\n",
       "    </tr>\n",
       "    <tr>\n",
       "      <th>1</th>\n",
       "      <td>RT @ScottWalker: Didn't catch the full #GOPdeb...</td>\n",
       "      <td>5.714286</td>\n",
       "    </tr>\n",
       "    <tr>\n",
       "      <th>2</th>\n",
       "      <td>RT @TJMShow: No mention of Tamir Rice and the ...</td>\n",
       "      <td>4.666667</td>\n",
       "    </tr>\n",
       "    <tr>\n",
       "      <th>3</th>\n",
       "      <td>RT @RobGeorge: That Carly Fiorina is trending ...</td>\n",
       "      <td>4.640000</td>\n",
       "    </tr>\n",
       "    <tr>\n",
       "      <th>4</th>\n",
       "      <td>RT @DanScavino: #GOPDebate w/ @realDonaldTrump...</td>\n",
       "      <td>7.294118</td>\n",
       "    </tr>\n",
       "  </tbody>\n",
       "</table>\n",
       "</div>"
      ],
      "text/plain": [
       "                                                text  avg_word\n",
       "0  RT @NancyLeeGrahn: How did everyone feel about...  6.133333\n",
       "1  RT @ScottWalker: Didn't catch the full #GOPdeb...  5.714286\n",
       "2  RT @TJMShow: No mention of Tamir Rice and the ...  4.666667\n",
       "3  RT @RobGeorge: That Carly Fiorina is trending ...  4.640000\n",
       "4  RT @DanScavino: #GOPDebate w/ @realDonaldTrump...  7.294118"
      ]
     },
     "execution_count": 5,
     "metadata": {},
     "output_type": "execute_result"
    }
   ],
   "source": [
    "#Average Word Length\n",
    "def avg_word(sentence):\n",
    "  words = sentence.split()\n",
    "  return (sum(len(word) for word in words)/len(words))\n",
    "text['avg_word'] = text['text'].apply(lambda x: avg_word(x))\n",
    "text[['text','avg_word']].head()"
   ]
  },
  {
   "cell_type": "code",
   "execution_count": 6,
   "metadata": {},
   "outputs": [
    {
     "data": {
      "text/html": [
       "<div>\n",
       "<style scoped>\n",
       "    .dataframe tbody tr th:only-of-type {\n",
       "        vertical-align: middle;\n",
       "    }\n",
       "\n",
       "    .dataframe tbody tr th {\n",
       "        vertical-align: top;\n",
       "    }\n",
       "\n",
       "    .dataframe thead th {\n",
       "        text-align: right;\n",
       "    }\n",
       "</style>\n",
       "<table border=\"1\" class=\"dataframe\">\n",
       "  <thead>\n",
       "    <tr style=\"text-align: right;\">\n",
       "      <th></th>\n",
       "      <th>text</th>\n",
       "      <th>stopwords</th>\n",
       "    </tr>\n",
       "  </thead>\n",
       "  <tbody>\n",
       "    <tr>\n",
       "      <th>0</th>\n",
       "      <td>RT @NancyLeeGrahn: How did everyone feel about...</td>\n",
       "      <td>3</td>\n",
       "    </tr>\n",
       "    <tr>\n",
       "      <th>1</th>\n",
       "      <td>RT @ScottWalker: Didn't catch the full #GOPdeb...</td>\n",
       "      <td>5</td>\n",
       "    </tr>\n",
       "    <tr>\n",
       "      <th>2</th>\n",
       "      <td>RT @TJMShow: No mention of Tamir Rice and the ...</td>\n",
       "      <td>5</td>\n",
       "    </tr>\n",
       "    <tr>\n",
       "      <th>3</th>\n",
       "      <td>RT @RobGeorge: That Carly Fiorina is trending ...</td>\n",
       "      <td>9</td>\n",
       "    </tr>\n",
       "    <tr>\n",
       "      <th>4</th>\n",
       "      <td>RT @DanScavino: #GOPDebate w/ @realDonaldTrump...</td>\n",
       "      <td>4</td>\n",
       "    </tr>\n",
       "  </tbody>\n",
       "</table>\n",
       "</div>"
      ],
      "text/plain": [
       "                                                text  stopwords\n",
       "0  RT @NancyLeeGrahn: How did everyone feel about...          3\n",
       "1  RT @ScottWalker: Didn't catch the full #GOPdeb...          5\n",
       "2  RT @TJMShow: No mention of Tamir Rice and the ...          5\n",
       "3  RT @RobGeorge: That Carly Fiorina is trending ...          9\n",
       "4  RT @DanScavino: #GOPDebate w/ @realDonaldTrump...          4"
      ]
     },
     "execution_count": 6,
     "metadata": {},
     "output_type": "execute_result"
    }
   ],
   "source": [
    "#count of stopwords\n",
    "from nltk.corpus import stopwords\n",
    "stop = stopwords.words('english')\n",
    "\n",
    "text['stopwords'] = text['text'].apply(lambda x: len([x for x in x.split() if x in stop]))\n",
    "text[['text','stopwords']].head()"
   ]
  },
  {
   "cell_type": "code",
   "execution_count": 7,
   "metadata": {},
   "outputs": [
    {
     "data": {
      "text/html": [
       "<div>\n",
       "<style scoped>\n",
       "    .dataframe tbody tr th:only-of-type {\n",
       "        vertical-align: middle;\n",
       "    }\n",
       "\n",
       "    .dataframe tbody tr th {\n",
       "        vertical-align: top;\n",
       "    }\n",
       "\n",
       "    .dataframe thead th {\n",
       "        text-align: right;\n",
       "    }\n",
       "</style>\n",
       "<table border=\"1\" class=\"dataframe\">\n",
       "  <thead>\n",
       "    <tr style=\"text-align: right;\">\n",
       "      <th></th>\n",
       "      <th>text</th>\n",
       "      <th>hastags</th>\n",
       "    </tr>\n",
       "  </thead>\n",
       "  <tbody>\n",
       "    <tr>\n",
       "      <th>0</th>\n",
       "      <td>RT @NancyLeeGrahn: How did everyone feel about...</td>\n",
       "      <td>1</td>\n",
       "    </tr>\n",
       "    <tr>\n",
       "      <th>1</th>\n",
       "      <td>RT @ScottWalker: Didn't catch the full #GOPdeb...</td>\n",
       "      <td>2</td>\n",
       "    </tr>\n",
       "    <tr>\n",
       "      <th>2</th>\n",
       "      <td>RT @TJMShow: No mention of Tamir Rice and the ...</td>\n",
       "      <td>1</td>\n",
       "    </tr>\n",
       "    <tr>\n",
       "      <th>3</th>\n",
       "      <td>RT @RobGeorge: That Carly Fiorina is trending ...</td>\n",
       "      <td>1</td>\n",
       "    </tr>\n",
       "    <tr>\n",
       "      <th>4</th>\n",
       "      <td>RT @DanScavino: #GOPDebate w/ @realDonaldTrump...</td>\n",
       "      <td>2</td>\n",
       "    </tr>\n",
       "  </tbody>\n",
       "</table>\n",
       "</div>"
      ],
      "text/plain": [
       "                                                text  hastags\n",
       "0  RT @NancyLeeGrahn: How did everyone feel about...        1\n",
       "1  RT @ScottWalker: Didn't catch the full #GOPdeb...        2\n",
       "2  RT @TJMShow: No mention of Tamir Rice and the ...        1\n",
       "3  RT @RobGeorge: That Carly Fiorina is trending ...        1\n",
       "4  RT @DanScavino: #GOPDebate w/ @realDonaldTrump...        2"
      ]
     },
     "execution_count": 7,
     "metadata": {},
     "output_type": "execute_result"
    }
   ],
   "source": [
    "#Number of special characters\n",
    "text['hastags'] = text['text'].apply(lambda x: len([x for x in x.split() if x.startswith('#')]))\n",
    "text[['text','hastags']].head()"
   ]
  },
  {
   "cell_type": "code",
   "execution_count": 8,
   "metadata": {},
   "outputs": [
    {
     "data": {
      "text/html": [
       "<div>\n",
       "<style scoped>\n",
       "    .dataframe tbody tr th:only-of-type {\n",
       "        vertical-align: middle;\n",
       "    }\n",
       "\n",
       "    .dataframe tbody tr th {\n",
       "        vertical-align: top;\n",
       "    }\n",
       "\n",
       "    .dataframe thead th {\n",
       "        text-align: right;\n",
       "    }\n",
       "</style>\n",
       "<table border=\"1\" class=\"dataframe\">\n",
       "  <thead>\n",
       "    <tr style=\"text-align: right;\">\n",
       "      <th></th>\n",
       "      <th>text</th>\n",
       "      <th>numerics</th>\n",
       "    </tr>\n",
       "  </thead>\n",
       "  <tbody>\n",
       "    <tr>\n",
       "      <th>0</th>\n",
       "      <td>RT @NancyLeeGrahn: How did everyone feel about...</td>\n",
       "      <td>0</td>\n",
       "    </tr>\n",
       "    <tr>\n",
       "      <th>1</th>\n",
       "      <td>RT @ScottWalker: Didn't catch the full #GOPdeb...</td>\n",
       "      <td>1</td>\n",
       "    </tr>\n",
       "    <tr>\n",
       "      <th>2</th>\n",
       "      <td>RT @TJMShow: No mention of Tamir Rice and the ...</td>\n",
       "      <td>0</td>\n",
       "    </tr>\n",
       "    <tr>\n",
       "      <th>3</th>\n",
       "      <td>RT @RobGeorge: That Carly Fiorina is trending ...</td>\n",
       "      <td>0</td>\n",
       "    </tr>\n",
       "    <tr>\n",
       "      <th>4</th>\n",
       "      <td>RT @DanScavino: #GOPDebate w/ @realDonaldTrump...</td>\n",
       "      <td>0</td>\n",
       "    </tr>\n",
       "  </tbody>\n",
       "</table>\n",
       "</div>"
      ],
      "text/plain": [
       "                                                text  numerics\n",
       "0  RT @NancyLeeGrahn: How did everyone feel about...         0\n",
       "1  RT @ScottWalker: Didn't catch the full #GOPdeb...         1\n",
       "2  RT @TJMShow: No mention of Tamir Rice and the ...         0\n",
       "3  RT @RobGeorge: That Carly Fiorina is trending ...         0\n",
       "4  RT @DanScavino: #GOPDebate w/ @realDonaldTrump...         0"
      ]
     },
     "execution_count": 8,
     "metadata": {},
     "output_type": "execute_result"
    }
   ],
   "source": [
    "#count of numerics\n",
    "text['numerics'] = text['text'].apply(lambda x: len([x for x in x.split() if x.isdigit()]))\n",
    "text[['text','numerics']].head()"
   ]
  },
  {
   "cell_type": "code",
   "execution_count": 9,
   "metadata": {
    "scrolled": true
   },
   "outputs": [
    {
     "data": {
      "text/html": [
       "<div>\n",
       "<style scoped>\n",
       "    .dataframe tbody tr th:only-of-type {\n",
       "        vertical-align: middle;\n",
       "    }\n",
       "\n",
       "    .dataframe tbody tr th {\n",
       "        vertical-align: top;\n",
       "    }\n",
       "\n",
       "    .dataframe thead th {\n",
       "        text-align: right;\n",
       "    }\n",
       "</style>\n",
       "<table border=\"1\" class=\"dataframe\">\n",
       "  <thead>\n",
       "    <tr style=\"text-align: right;\">\n",
       "      <th></th>\n",
       "      <th>text</th>\n",
       "      <th>upper</th>\n",
       "    </tr>\n",
       "  </thead>\n",
       "  <tbody>\n",
       "    <tr>\n",
       "      <th>0</th>\n",
       "      <td>RT @NancyLeeGrahn: How did everyone feel about...</td>\n",
       "      <td>1</td>\n",
       "    </tr>\n",
       "    <tr>\n",
       "      <th>1</th>\n",
       "      <td>RT @ScottWalker: Didn't catch the full #GOPdeb...</td>\n",
       "      <td>1</td>\n",
       "    </tr>\n",
       "    <tr>\n",
       "      <th>2</th>\n",
       "      <td>RT @TJMShow: No mention of Tamir Rice and the ...</td>\n",
       "      <td>1</td>\n",
       "    </tr>\n",
       "    <tr>\n",
       "      <th>3</th>\n",
       "      <td>RT @RobGeorge: That Carly Fiorina is trending ...</td>\n",
       "      <td>2</td>\n",
       "    </tr>\n",
       "    <tr>\n",
       "      <th>4</th>\n",
       "      <td>RT @DanScavino: #GOPDebate w/ @realDonaldTrump...</td>\n",
       "      <td>1</td>\n",
       "    </tr>\n",
       "  </tbody>\n",
       "</table>\n",
       "</div>"
      ],
      "text/plain": [
       "                                                text  upper\n",
       "0  RT @NancyLeeGrahn: How did everyone feel about...      1\n",
       "1  RT @ScottWalker: Didn't catch the full #GOPdeb...      1\n",
       "2  RT @TJMShow: No mention of Tamir Rice and the ...      1\n",
       "3  RT @RobGeorge: That Carly Fiorina is trending ...      2\n",
       "4  RT @DanScavino: #GOPDebate w/ @realDonaldTrump...      1"
      ]
     },
     "execution_count": 9,
     "metadata": {},
     "output_type": "execute_result"
    }
   ],
   "source": [
    "#number of Uppercase words\n",
    "text['upper'] = text['text'].apply(lambda x: len([x for x in x.split() if x.isupper()]))\n",
    "text[['text','upper']].head()"
   ]
  },
  {
   "cell_type": "code",
   "execution_count": 11,
   "metadata": {},
   "outputs": [
    {
     "data": {
      "text/plain": [
       "0    rt @nancyleegrahn: how did everyone feel about...\n",
       "1    rt @scottwalker: didn't catch the full #gopdeb...\n",
       "2    rt @tjmshow: no mention of tamir rice and the ...\n",
       "3    rt @robgeorge: that carly fiorina is trending ...\n",
       "4    rt @danscavino: #gopdebate w/ @realdonaldtrump...\n",
       "Name: text, dtype: object"
      ]
     },
     "execution_count": 11,
     "metadata": {},
     "output_type": "execute_result"
    }
   ],
   "source": [
    "#Basic Pre-processing\n",
    "#making all as Lower case\n",
    "text['text'] = text['text'].apply(lambda x: \" \".join(x.lower() for x in x.split()))\n",
    "text['text'].head()"
   ]
  },
  {
   "cell_type": "code",
   "execution_count": 12,
   "metadata": {},
   "outputs": [
    {
     "data": {
      "text/plain": [
       "0    rt nancyleegrahn how did everyone feel about t...\n",
       "1    rt scottwalker didnt catch the full gopdebate ...\n",
       "2    rt tjmshow no mention of tamir rice and the go...\n",
       "3    rt robgeorge that carly fiorina is trending  h...\n",
       "4    rt danscavino gopdebate w realdonaldtrump deli...\n",
       "Name: text, dtype: object"
      ]
     },
     "execution_count": 12,
     "metadata": {},
     "output_type": "execute_result"
    }
   ],
   "source": [
    "#Removing Punctuation\n",
    "text['text'] = text['text'].str.replace('[^\\w\\s]','')\n",
    "text['text'].head()"
   ]
  },
  {
   "cell_type": "code",
   "execution_count": 13,
   "metadata": {},
   "outputs": [
    {
     "data": {
      "text/plain": [
       "0    rt nancyleegrahn everyone feel climate change ...\n",
       "1    rt scottwalker didnt catch full gopdebate last...\n",
       "2    rt tjmshow mention tamir rice gopdebate held c...\n",
       "3    rt robgeorge carly fiorina trending hours deba...\n",
       "4    rt danscavino gopdebate w realdonaldtrump deli...\n",
       "Name: text, dtype: object"
      ]
     },
     "execution_count": 13,
     "metadata": {},
     "output_type": "execute_result"
    }
   ],
   "source": [
    "#Removal of Stop Words\n",
    "from nltk.corpus import stopwords\n",
    "stop = stopwords.words('english')\n",
    "text['text'] = text['text'].apply(lambda x: \" \".join(x for x in x.split() if x not in stop))\n",
    "text['text'].head()"
   ]
  },
  {
   "cell_type": "code",
   "execution_count": 14,
   "metadata": {},
   "outputs": [
    {
     "name": "stdout",
     "output_type": "stream",
     "text": [
      "gopdebate          9014\n",
      "rt                 7860\n",
      "gopdebates         5269\n",
      "rwsurfergirl       1974\n",
      "trump              1784\n",
      "fox                1312\n",
      "realdonaldtrump    1058\n",
      "debate             1051\n",
      "amp                1028\n",
      "news                909\n",
      "dtype: int64\n",
      "<FreqDist with 19294 samples and 153049 outcomes>\n"
     ]
    }
   ],
   "source": [
    "# tokenization and find the frequency\n",
    "\n",
    "from nltk.tokenize import sent_tokenize\n",
    "from nltk.tokenize import word_tokenize\n",
    "from nltk.probability import FreqDist\n",
    "t=[]\n",
    "for i in range(len(text['text'])):\n",
    "    tokenized_text=sent_tokenize(text['text'][i])\n",
    "    tokenized_word=word_tokenize(text['text'][i])\n",
    "    t =t+tokenized_word\n",
    "#print(t)\n",
    "freq = pd.Series(' '.join(text['text']).split()).value_counts()[:10]\n",
    "print(freq)\n",
    "fdist = FreqDist(t)\n",
    "print(fdist)"
   ]
  },
  {
   "cell_type": "code",
   "execution_count": 15,
   "metadata": {},
   "outputs": [
    {
     "data": {
      "image/png": "[encoded data removed]",
      "text/plain": [
       "<Figure size 432x288 with 1 Axes>"
      ]
     },
     "metadata": {
      "needs_background": "light"
     },
     "output_type": "display_data"
    }
   ],
   "source": [
    "#plotting the frequency of words\n",
    "fdist.plot(25,cumulative=False)\n",
    "plt.show()"
   ]
  },
  {
   "cell_type": "code",
   "execution_count": 16,
   "metadata": {},
   "outputs": [
    {
     "data": {
      "text/plain": [
       "0    nancyleegrahn everyone feel climate change que...\n",
       "1    scottwalker didnt catch full last night scotts...\n",
       "2        tjmshow mention tamir rice held cleveland wow\n",
       "3    robgeorge carly fiorina trending hours men jus...\n",
       "4    danscavino w delivered highest ratings history...\n",
       "Name: text, dtype: object"
      ]
     },
     "execution_count": 16,
     "metadata": {},
     "output_type": "execute_result"
    }
   ],
   "source": [
    "#Common word removal\n",
    "freq = list(freq.index)\n",
    "text['text'] = text['text'].apply(lambda x: \" \".join(x for x in x.split() if x not in freq))\n",
    "text['text'].head()"
   ]
  },
  {
   "cell_type": "code",
   "execution_count": 76,
   "metadata": {},
   "outputs": [
    {
     "data": {
      "text/plain": [
       "http://t.co/c6ulr4O8hE    1\n",
       "http://t.co/vhL…          1\n",
       "http://t.co/nrUgsn3XIu    1\n",
       "@PamelaRivers:            1\n",
       "subscribers.so            1\n",
       "dtype: int64"
      ]
     },
     "execution_count": 76,
     "metadata": {},
     "output_type": "execute_result"
    }
   ],
   "source": [
    "#Rare words removal\n",
    "freq = pd.Series(' '.join(text['text']).split()).value_counts()[-10:]\n",
    "freq.head()"
   ]
  },
  {
   "cell_type": "code",
   "execution_count": 18,
   "metadata": {},
   "outputs": [
    {
     "data": {
      "text/plain": [
       "0    nancyleegrahn everyone feel climate change que...\n",
       "1    scottwalker didnt catch full last night scotts...\n",
       "2        tjmshow mention tamir rice held cleveland wow\n",
       "3    robgeorge carly fiorina trending hours men jus...\n",
       "4    danscavino w delivered highest ratings history...\n",
       "Name: text, dtype: object"
      ]
     },
     "execution_count": 18,
     "metadata": {},
     "output_type": "execute_result"
    }
   ],
   "source": [
    "freq = list(freq.index)\n",
    "text['text']= text['text'].apply(lambda x: \" \".join(x for x in x.split() if x not in freq))\n",
    "text['text'].head()"
   ]
  },
  {
   "cell_type": "code",
   "execution_count": 19,
   "metadata": {},
   "outputs": [
    {
     "data": {
      "text/plain": [
       "0    nancyleegrahn everyon feel climat chang questi...\n",
       "1    scottwalk didnt catch full last night scott be...\n",
       "2        tjmshow mention tamir rice held cleveland wow\n",
       "3    robgeorg carli fiorina trend hour men justcomp...\n",
       "4    danscavino w deliv highest rate histori presid...\n",
       "Name: text, dtype: object"
      ]
     },
     "execution_count": 19,
     "metadata": {},
     "output_type": "execute_result"
    }
   ],
   "source": [
    "#Stemming\n",
    "from nltk.stem import PorterStemmer\n",
    "st = PorterStemmer()\n",
    "text['text'][:5].apply(lambda x: \" \".join([st.stem(word) for word in x.split()]))"
   ]
  },
  {
   "cell_type": "code",
   "execution_count": 20,
   "metadata": {},
   "outputs": [
    {
     "data": {
      "text/plain": [
       "0    nancyleegrahn everyone feel climate change que...\n",
       "1    scottwalker didnt catch full last night scott ...\n",
       "2        tjmshow mention tamir rice held cleveland wow\n",
       "3    robgeorge carly fiorina trending hour men just...\n",
       "4    danscavino w delivered highest rating history ...\n",
       "Name: text, dtype: object"
      ]
     },
     "execution_count": 20,
     "metadata": {},
     "output_type": "execute_result"
    }
   ],
   "source": [
    "#Lemmatization\n",
    "from textblob import Word\n",
    "text['text'] =text['text'].apply(lambda x: \" \".join([Word(word).lemmatize() for word in x.split()]))\n",
    "text['text'].head()"
   ]
  },
  {
   "cell_type": "code",
   "execution_count": 63,
   "metadata": {},
   "outputs": [
    {
     "data": {
      "text/plain": [
       "[('rt', 'NN'),\n",
       " ('nancyleegrahn', 'CC'),\n",
       " ('everyone', 'NN'),\n",
       " ('feel', 'NN'),\n",
       " ('climate', 'NN')]"
      ]
     },
     "execution_count": 63,
     "metadata": {},
     "output_type": "execute_result"
    }
   ],
   "source": [
    "#POS Tagging\n",
    "nltk.pos_tag(t)[0:5]"
   ]
  },
  {
   "cell_type": "code",
   "execution_count": 24,
   "metadata": {},
   "outputs": [
    {
     "data": {
      "text/plain": [
       "[WordList(['nancyleegrahn', 'everyone']),\n",
       " WordList(['everyone', 'feel']),\n",
       " WordList(['feel', 'climate']),\n",
       " WordList(['climate', 'change']),\n",
       " WordList(['change', 'question']),\n",
       " WordList(['question', 'last']),\n",
       " WordList(['last', 'night']),\n",
       " WordList(['night', 'exactly'])]"
      ]
     },
     "execution_count": 24,
     "metadata": {},
     "output_type": "execute_result"
    }
   ],
   "source": [
    "#Text Processing\n",
    "#N-grams(2)\n",
    "from textblob import TextBlob\n",
    "TextBlob(text['text'][0]).ngrams(2)"
   ]
  },
  {
   "cell_type": "code",
   "execution_count": 73,
   "metadata": {},
   "outputs": [
    {
     "data": {
      "text/html": [
       "<div>\n",
       "<style scoped>\n",
       "    .dataframe tbody tr th:only-of-type {\n",
       "        vertical-align: middle;\n",
       "    }\n",
       "\n",
       "    .dataframe tbody tr th {\n",
       "        vertical-align: top;\n",
       "    }\n",
       "\n",
       "    .dataframe thead th {\n",
       "        text-align: right;\n",
       "    }\n",
       "</style>\n",
       "<table border=\"1\" class=\"dataframe\">\n",
       "  <thead>\n",
       "    <tr style=\"text-align: right;\">\n",
       "      <th></th>\n",
       "      <th>words</th>\n",
       "      <th>tf</th>\n",
       "    </tr>\n",
       "  </thead>\n",
       "  <tbody>\n",
       "    <tr>\n",
       "      <th>0</th>\n",
       "      <td>in</td>\n",
       "      <td>1</td>\n",
       "    </tr>\n",
       "    <tr>\n",
       "      <th>1</th>\n",
       "      <td>some</td>\n",
       "      <td>1</td>\n",
       "    </tr>\n",
       "    <tr>\n",
       "      <th>2</th>\n",
       "      <td>Here</td>\n",
       "      <td>1</td>\n",
       "    </tr>\n",
       "    <tr>\n",
       "      <th>3</th>\n",
       "      <td>@ScottWalker:</td>\n",
       "      <td>1</td>\n",
       "    </tr>\n",
       "    <tr>\n",
       "      <th>4</th>\n",
       "      <td>http://t.co/ZSfF…</td>\n",
       "      <td>1</td>\n",
       "    </tr>\n",
       "  </tbody>\n",
       "</table>\n",
       "</div>"
      ],
      "text/plain": [
       "               words  tf\n",
       "0                 in   1\n",
       "1               some   1\n",
       "2               Here   1\n",
       "3      @ScottWalker:   1\n",
       "4  http://t.co/ZSfF…   1"
      ]
     },
     "execution_count": 73,
     "metadata": {},
     "output_type": "execute_result"
    }
   ],
   "source": [
    "#Term frequency\n",
    "tf1 = (text['text'][1:2]).apply(lambda x: pd.value_counts(x.split(\" \"))).sum(axis = 0).reset_index()\n",
    "tf1.columns = ['words','tf']\n",
    "tf1.head()"
   ]
  },
  {
   "cell_type": "code",
   "execution_count": 74,
   "metadata": {},
   "outputs": [
    {
     "data": {
      "text/html": [
       "<div>\n",
       "<style scoped>\n",
       "    .dataframe tbody tr th:only-of-type {\n",
       "        vertical-align: middle;\n",
       "    }\n",
       "\n",
       "    .dataframe tbody tr th {\n",
       "        vertical-align: top;\n",
       "    }\n",
       "\n",
       "    .dataframe thead th {\n",
       "        text-align: right;\n",
       "    }\n",
       "</style>\n",
       "<table border=\"1\" class=\"dataframe\">\n",
       "  <thead>\n",
       "    <tr style=\"text-align: right;\">\n",
       "      <th></th>\n",
       "      <th>words</th>\n",
       "      <th>tf</th>\n",
       "      <th>idf</th>\n",
       "    </tr>\n",
       "  </thead>\n",
       "  <tbody>\n",
       "    <tr>\n",
       "      <th>0</th>\n",
       "      <td>in</td>\n",
       "      <td>1</td>\n",
       "      <td>0.407450</td>\n",
       "    </tr>\n",
       "    <tr>\n",
       "      <th>1</th>\n",
       "      <td>some</td>\n",
       "      <td>1</td>\n",
       "      <td>3.648678</td>\n",
       "    </tr>\n",
       "    <tr>\n",
       "      <th>2</th>\n",
       "      <td>Here</td>\n",
       "      <td>1</td>\n",
       "      <td>5.332863</td>\n",
       "    </tr>\n",
       "    <tr>\n",
       "      <th>3</th>\n",
       "      <td>@ScottWalker:</td>\n",
       "      <td>1</td>\n",
       "      <td>7.458114</td>\n",
       "    </tr>\n",
       "    <tr>\n",
       "      <th>4</th>\n",
       "      <td>http://t.co/ZSfF…</td>\n",
       "      <td>1</td>\n",
       "      <td>9.537556</td>\n",
       "    </tr>\n",
       "  </tbody>\n",
       "</table>\n",
       "</div>"
      ],
      "text/plain": [
       "               words  tf       idf\n",
       "0                 in   1  0.407450\n",
       "1               some   1  3.648678\n",
       "2               Here   1  5.332863\n",
       "3      @ScottWalker:   1  7.458114\n",
       "4  http://t.co/ZSfF…   1  9.537556"
      ]
     },
     "execution_count": 74,
     "metadata": {},
     "output_type": "execute_result"
    }
   ],
   "source": [
    "#Inverse Document Frequency\n",
    "for i,word in enumerate(tf1['words']):\n",
    "  tf1.loc[i, 'idf'] = np.log(text.shape[0]/(len(text[text['text'].str.contains(word)])))\n",
    "\n",
    "tf1.head()"
   ]
  },
  {
   "cell_type": "code",
   "execution_count": 75,
   "metadata": {},
   "outputs": [
    {
     "data": {
      "text/html": [
       "<div>\n",
       "<style scoped>\n",
       "    .dataframe tbody tr th:only-of-type {\n",
       "        vertical-align: middle;\n",
       "    }\n",
       "\n",
       "    .dataframe tbody tr th {\n",
       "        vertical-align: top;\n",
       "    }\n",
       "\n",
       "    .dataframe thead th {\n",
       "        text-align: right;\n",
       "    }\n",
       "</style>\n",
       "<table border=\"1\" class=\"dataframe\">\n",
       "  <thead>\n",
       "    <tr style=\"text-align: right;\">\n",
       "      <th></th>\n",
       "      <th>words</th>\n",
       "      <th>tf</th>\n",
       "      <th>idf</th>\n",
       "      <th>tfidf</th>\n",
       "    </tr>\n",
       "  </thead>\n",
       "  <tbody>\n",
       "    <tr>\n",
       "      <th>0</th>\n",
       "      <td>in</td>\n",
       "      <td>1</td>\n",
       "      <td>0.407450</td>\n",
       "      <td>0.407450</td>\n",
       "    </tr>\n",
       "    <tr>\n",
       "      <th>1</th>\n",
       "      <td>some</td>\n",
       "      <td>1</td>\n",
       "      <td>3.648678</td>\n",
       "      <td>3.648678</td>\n",
       "    </tr>\n",
       "    <tr>\n",
       "      <th>2</th>\n",
       "      <td>Here</td>\n",
       "      <td>1</td>\n",
       "      <td>5.332863</td>\n",
       "      <td>5.332863</td>\n",
       "    </tr>\n",
       "    <tr>\n",
       "      <th>3</th>\n",
       "      <td>@ScottWalker:</td>\n",
       "      <td>1</td>\n",
       "      <td>7.458114</td>\n",
       "      <td>7.458114</td>\n",
       "    </tr>\n",
       "    <tr>\n",
       "      <th>4</th>\n",
       "      <td>http://t.co/ZSfF…</td>\n",
       "      <td>1</td>\n",
       "      <td>9.537556</td>\n",
       "      <td>9.537556</td>\n",
       "    </tr>\n",
       "  </tbody>\n",
       "</table>\n",
       "</div>"
      ],
      "text/plain": [
       "               words  tf       idf     tfidf\n",
       "0                 in   1  0.407450  0.407450\n",
       "1               some   1  3.648678  3.648678\n",
       "2               Here   1  5.332863  5.332863\n",
       "3      @ScottWalker:   1  7.458114  7.458114\n",
       "4  http://t.co/ZSfF…   1  9.537556  9.537556"
      ]
     },
     "execution_count": 75,
     "metadata": {},
     "output_type": "execute_result"
    }
   ],
   "source": [
    "#Term Frequency – Inverse Document Frequency (TF-IDF)\n",
    "tf1['tfidf'] = tf1['tf'] * tf1['idf']\n",
    "tf1.head()"
   ]
  },
  {
   "cell_type": "code",
   "execution_count": 71,
   "metadata": {},
   "outputs": [
    {
     "name": "stdout",
     "output_type": "stream",
     "text": [
      "{'once', 'yours', 'o', 'isn', 'more', \"shouldn't\", \"wasn't\", 'from', 'down', \"haven't\", 'hers', 'into', \"needn't\", 'where', 'all', \"she's\", 't', \"mustn't\", 'm', 'those', 'were', 'doesn', 'being', \"hadn't\", 'there', 'aren', 'hadn', 'are', 'that', 'its', 'himself', 'these', 'in', 'am', 'before', 'yourselves', 'same', 'no', 'should', 'y', \"doesn't\", \"you're\", 'between', \"wouldn't\", 'does', 'them', 'herself', 'too', 'ourselves', 's', \"don't\", 'haven', 'will', 'don', 'both', 'needn', 'an', 'a', 'only', 'on', 'to', \"mightn't\", 'shouldn', \"couldn't\", 'not', 'up', \"you'd\", \"you'll\", 'been', 'some', 'd', \"isn't\", 'doing', 'other', 'just', 'did', 'for', \"shan't\", 'above', 'out', \"should've\", 'weren', 'or', 'each', 'i', 'such', 'their', 'theirs', 'here', 'wouldn', 'she', 'ours', 'and', 'was', \"weren't\", 'ma', 'why', 'll', 'is', 'your', 'has', 'very', 'whom', 'themselves', 'me', 'hasn', 'who', 'through', 'how', 'ain', 've', 'mustn', 'itself', 'of', 'then', 'what', 'him', 'most', 'about', 'my', 'having', 'own', 'as', 'against', 'off', 'while', 'any', 'the', 'he', \"hasn't\", 'our', 'his', 'can', 'over', 'after', \"aren't\", 'it', 'again', 'at', 'this', \"didn't\", 'mightn', 'now', 'below', 'we', 'until', 'during', \"won't\", 'had', 'with', 'nor', 'they', \"that'll\", \"it's\", 're', 'so', 'do', \"you've\", 'be', 'because', 'you', 'when', 'few', 'didn', 'have', 'won', 'further', 'if', 'shan', 'couldn', 'than', 'yourself', 'by', 'her', 'under', 'myself', 'but', 'which', 'wasn'}\n"
     ]
    }
   ],
   "source": [
    "#making worldcloud\n",
    "from wordcloud import WordCloud, STOPWORDS\n",
    "from nltk.corpus import stopwords\n",
    "stop_words=set(stopwords.words(\"english\"))\n",
    "print(stop_words)"
   ]
  },
  {
   "cell_type": "code",
   "execution_count": 68,
   "metadata": {},
   "outputs": [
    {
     "data": {
      "image/png": "[encoded data removed]",
      "text/plain": [
       "<Figure size 360x360 with 1 Axes>"
      ]
     },
     "metadata": {
      "needs_background": "light"
     },
     "output_type": "display_data"
    }
   ],
   "source": [
    "comment_words = ' '\n",
    "for words in t: \n",
    "    comment_words = comment_words + words + ' '\n",
    "    \n",
    "wordcloud = WordCloud(width = 600, height = 600, \n",
    "                background_color='white' , \n",
    "                stopwords = stop_words, \n",
    "                min_font_size = 10).generate(comment_words) \n",
    "  \n",
    "# plot the WordCloud image                        \n",
    "plt.figure(figsize = (5, 5), facecolor = None) \n",
    "plt.imshow(wordcloud) \n",
    "plt.axis(\"off\") \n",
    "plt.tight_layout(pad = 0) "
   ]
  },
  {
   "cell_type": "code",
   "execution_count": 66,
   "metadata": {},
   "outputs": [
    {
     "data": {
      "text/html": [
       "<div>\n",
       "<style scoped>\n",
       "    .dataframe tbody tr th:only-of-type {\n",
       "        vertical-align: middle;\n",
       "    }\n",
       "\n",
       "    .dataframe tbody tr th {\n",
       "        vertical-align: top;\n",
       "    }\n",
       "\n",
       "    .dataframe thead th {\n",
       "        text-align: right;\n",
       "    }\n",
       "</style>\n",
       "<table border=\"1\" class=\"dataframe\">\n",
       "  <thead>\n",
       "    <tr style=\"text-align: right;\">\n",
       "      <th></th>\n",
       "      <th>id</th>\n",
       "      <th>sentiment</th>\n",
       "      <th>text</th>\n",
       "      <th>word_count</th>\n",
       "      <th>char_count</th>\n",
       "      <th>avg_word</th>\n",
       "      <th>stopwords</th>\n",
       "      <th>hastags</th>\n",
       "      <th>numerics</th>\n",
       "      <th>upper</th>\n",
       "    </tr>\n",
       "  </thead>\n",
       "  <tbody>\n",
       "    <tr>\n",
       "      <th>0</th>\n",
       "      <td>1</td>\n",
       "      <td>Neutral</td>\n",
       "      <td>nancyleegrahn everyone feel climate change que...</td>\n",
       "      <td>15</td>\n",
       "      <td>106</td>\n",
       "      <td>6.133333</td>\n",
       "      <td>3</td>\n",
       "      <td>1</td>\n",
       "      <td>0</td>\n",
       "      <td>1</td>\n",
       "    </tr>\n",
       "    <tr>\n",
       "      <th>1</th>\n",
       "      <td>2</td>\n",
       "      <td>Positive</td>\n",
       "      <td>scottwalker didnt catch full last night scott ...</td>\n",
       "      <td>21</td>\n",
       "      <td>140</td>\n",
       "      <td>5.714286</td>\n",
       "      <td>5</td>\n",
       "      <td>2</td>\n",
       "      <td>1</td>\n",
       "      <td>1</td>\n",
       "    </tr>\n",
       "    <tr>\n",
       "      <th>2</th>\n",
       "      <td>3</td>\n",
       "      <td>Neutral</td>\n",
       "      <td>tjmshow mention tamir rice held cleveland wow</td>\n",
       "      <td>15</td>\n",
       "      <td>84</td>\n",
       "      <td>4.666667</td>\n",
       "      <td>5</td>\n",
       "      <td>1</td>\n",
       "      <td>0</td>\n",
       "      <td>1</td>\n",
       "    </tr>\n",
       "    <tr>\n",
       "      <th>3</th>\n",
       "      <td>4</td>\n",
       "      <td>Positive</td>\n",
       "      <td>robgeorge carly fiorina trending hour men just...</td>\n",
       "      <td>25</td>\n",
       "      <td>140</td>\n",
       "      <td>4.640000</td>\n",
       "      <td>9</td>\n",
       "      <td>1</td>\n",
       "      <td>0</td>\n",
       "      <td>2</td>\n",
       "    </tr>\n",
       "    <tr>\n",
       "      <th>4</th>\n",
       "      <td>5</td>\n",
       "      <td>Positive</td>\n",
       "      <td>danscavino w delivered highest rating history ...</td>\n",
       "      <td>17</td>\n",
       "      <td>140</td>\n",
       "      <td>7.294118</td>\n",
       "      <td>4</td>\n",
       "      <td>2</td>\n",
       "      <td>0</td>\n",
       "      <td>1</td>\n",
       "    </tr>\n",
       "  </tbody>\n",
       "</table>\n",
       "</div>"
      ],
      "text/plain": [
       "   id sentiment                                               text  \\\n",
       "0   1   Neutral  nancyleegrahn everyone feel climate change que...   \n",
       "1   2  Positive  scottwalker didnt catch full last night scott ...   \n",
       "2   3   Neutral      tjmshow mention tamir rice held cleveland wow   \n",
       "3   4  Positive  robgeorge carly fiorina trending hour men just...   \n",
       "4   5  Positive  danscavino w delivered highest rating history ...   \n",
       "\n",
       "   word_count  char_count  avg_word  stopwords  hastags  numerics  upper  \n",
       "0          15         106  6.133333          3        1         0      1  \n",
       "1          21         140  5.714286          5        2         1      1  \n",
       "2          15          84  4.666667          5        1         0      1  \n",
       "3          25         140  4.640000          9        1         0      2  \n",
       "4          17         140  7.294118          4        2         0      1  "
      ]
     },
     "execution_count": 66,
     "metadata": {},
     "output_type": "execute_result"
    }
   ],
   "source": [
    "text.head()"
   ]
  },
  {
   "cell_type": "code",
   "execution_count": 53,
   "metadata": {},
   "outputs": [],
   "source": [
    "#splitting training and testing data\n",
    "from sklearn.model_selection import train_test_split\n",
    "xtrain,xtest,ytrain,ytest=train_test_split(text['text'],text['sentiment'],test_size= 0.20,random_state=15)"
   ]
  },
  {
   "cell_type": "code",
   "execution_count": 54,
   "metadata": {},
   "outputs": [],
   "source": [
    "#Encoding the predicted variable\n",
    "from sklearn.preprocessing import LabelEncoder\n",
    "Encoder = LabelEncoder()\n",
    "ytrain = Encoder.fit_transform(ytrain)\n",
    "ytest = Encoder.fit_transform(ytest)"
   ]
  },
  {
   "cell_type": "code",
   "execution_count": 55,
   "metadata": {},
   "outputs": [],
   "source": [
    "#vectorization\n",
    "from sklearn.feature_extraction.text import TfidfVectorizer\n",
    "vec = TfidfVectorizer(max_features=5000)\n",
    "vec.fit(text['text'])\n",
    "trainx = vec.transform(xtrain)\n",
    "testx = vec.transform(xtest)"
   ]
  },
  {
   "cell_type": "code",
   "execution_count": 56,
   "metadata": {},
   "outputs": [
    {
     "name": "stdout",
     "output_type": "stream",
     "text": [
      "  (0, 4582)\t0.21675500510955334\n",
      "  (0, 4418)\t0.23222849354082564\n",
      "  (0, 4390)\t0.2694971441533183\n",
      "  (0, 3238)\t0.3922553065081077\n",
      "  (0, 2953)\t0.27773247957526026\n",
      "  (0, 2757)\t0.23087708257120754\n",
      "  (0, 2631)\t0.1811019349131726\n",
      "  (0, 2382)\t0.5554649591505205\n",
      "  (0, 1460)\t0.336001723384971\n",
      "  (0, 1434)\t0.2965102209005326\n"
     ]
    }
   ],
   "source": [
    "print(trainx[5])"
   ]
  },
  {
   "cell_type": "code",
   "execution_count": 57,
   "metadata": {},
   "outputs": [
    {
     "data": {
      "text/plain": [
       "MultinomialNB(alpha=1.0, class_prior=None, fit_prior=True)"
      ]
     },
     "execution_count": 57,
     "metadata": {},
     "output_type": "execute_result"
    }
   ],
   "source": [
    "#Fit a Naviebayes text classifier\n",
    "from sklearn import model_selection, naive_bayes\n",
    "Naive = naive_bayes.MultinomialNB()\n",
    "Naive.fit(trainx,ytrain)"
   ]
  },
  {
   "cell_type": "code",
   "execution_count": 59,
   "metadata": {},
   "outputs": [
    {
     "name": "stdout",
     "output_type": "stream",
     "text": [
      "Naive Bayes Accuracy Score ->  66.45045045045045 %\n"
     ]
    }
   ],
   "source": [
    "ypred = Naive.predict(testx)\n",
    "from sklearn.metrics import accuracy_score\n",
    "print(\"Naive Bayes Accuracy Score -> \",accuracy_score(ypred,ytest)*100,\"%\")"
   ]
  },
  {
   "cell_type": "code",
   "execution_count": 60,
   "metadata": {},
   "outputs": [
    {
     "name": "stdout",
     "output_type": "stream",
     "text": [
      "Predicted     0    1    2\n",
      "Actual                   \n",
      "0          1557  489  278\n",
      "1            70  143   35\n",
      "2            26   33  144\n"
     ]
    }
   ],
   "source": [
    "#confusion matrix\n",
    "from sklearn.metrics import confusion_matrix\n",
    "confusion_matrix = pd.crosstab(ypred,ytest, rownames=['Actual'], colnames=['Predicted'])\n",
    "print (confusion_matrix)"
   ]
  },
  {
   "cell_type": "code",
   "execution_count": 67,
   "metadata": {},
   "outputs": [
    {
     "data": {
      "text/plain": [
       "<matplotlib.axes._subplots.AxesSubplot at 0x204b8f0b2e8>"
      ]
     },
     "execution_count": 67,
     "metadata": {},
     "output_type": "execute_result"
    },
    {
     "data": {
      "image/png": "[encoded data removed]",
      "text/plain": [
       "<Figure size 432x288 with 2 Axes>"
      ]
     },
     "metadata": {
      "needs_background": "light"
     },
     "output_type": "display_data"
    }
   ],
   "source": [
    "import seaborn as sns\n",
    "sns.heatmap(confusion_matrix, annot=True)"
   ]
  }
 ],
 "metadata": {
  "kernelspec": {
   "display_name": "Python 3",
   "language": "python",
   "name": "python3"
  },
  "language_info": {
   "codemirror_mode": {
    "name": "ipython",
    "version": 3
   },
   "file_extension": ".py",
   "mimetype": "text/x-python",
   "name": "python",
   "nbconvert_exporter": "python",
   "pygments_lexer": "ipython3",
   "version": "3.7.1"
  }
 },
 "nbformat": 4,
 "nbformat_minor": 2
}
